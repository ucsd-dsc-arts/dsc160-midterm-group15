{
 "cells": [
  {
   "cell_type": "code",
   "execution_count": 1,
   "metadata": {},
   "outputs": [],
   "source": [
    "import numpy as np\n",
    "import pandas as pd\n",
    "import os\n",
    "from sklearn import svm\n",
    "from sklearn import model_selection\n",
    "from sklearn.naive_bayes import *"
   ]
  },
  {
   "cell_type": "code",
   "execution_count": 3,
   "metadata": {},
   "outputs": [],
   "source": [
    "rock = pd.read_csv(\"../data/rock_processed.csv\").drop(['Unnamed: 0', 'Unnamed: 0.1'], axis=1)\n",
    "classical = pd.read_csv(\"../data/classical_processed.csv\").drop(['Unnamed: 0', 'Unnamed: 0.1'], axis=1)\n",
    "jazz = pd.read_csv(\"../data/jazz_processed.csv\").drop(['Unnamed: 0', 'Unnamed: 0.1'], axis=1)\n",
    "hiphop = pd.read_csv(\"../data/hiphop_processed.csv\").drop(['Unnamed: 0', 'Unnamed: 0.1'], axis=1)\n",
    "punk = pd.read_csv(\"../data/punk_processed.csv\").drop(['Unnamed: 0', 'Unnamed: 0.1'], axis=1)"
   ]
  },
  {
   "cell_type": "markdown",
   "metadata": {},
   "source": [
    "### Using spotify API data to predict genre"
   ]
  },
  {
   "cell_type": "code",
   "execution_count": 16,
   "metadata": {},
   "outputs": [],
   "source": [
    "#concatenate the features (excluding the MFCC data and the song ID)\n",
    "features = np.vstack((rock.iloc[:,1:-5].values,\n",
    "                      classical.iloc[:,1:-5].values,\n",
    "                      jazz.iloc[:,1:-5].values,\n",
    "                      hiphop.iloc[:,1:-5].values,\n",
    "                      punk.iloc[:,1:-5].values))\n",
    "#concatenate the labels (0: rock, 1: classical, 2: jazz, 3: hiphop, 4: punk)\n",
    "labels = np.concatenate((np.full(rock.shape[0],0), \n",
    "                         np.full(classical.shape[0],1),\n",
    "                         np.full(jazz.shape[0],2), \n",
    "                         np.full(hiphop.shape[0],3),\n",
    "                         np.full(punk.shape[0],4)))"
   ]
  },
  {
   "cell_type": "code",
   "execution_count": 17,
   "metadata": {},
   "outputs": [],
   "source": [
    "#create a training set and test set\n",
    "X_train, X_test, y_train, y_test = model_selection.train_test_split(features, labels, test_size =0.25)"
   ]
  },
  {
   "cell_type": "code",
   "execution_count": 18,
   "metadata": {},
   "outputs": [
    {
     "data": {
      "text/plain": [
       "0.3723404255319149"
      ]
     },
     "execution_count": 18,
     "metadata": {},
     "output_type": "execute_result"
    }
   ],
   "source": [
    "#create, fit, and score a SVC model\n",
    "model = svm.SVC()\n",
    "model.fit(X_train, y_train)\n",
    "model.score(X_test, y_test)"
   ]
  },
  {
   "cell_type": "code",
   "execution_count": 19,
   "metadata": {},
   "outputs": [
    {
     "data": {
      "text/plain": [
       "0.6595744680851063"
      ]
     },
     "execution_count": 19,
     "metadata": {},
     "output_type": "execute_result"
    }
   ],
   "source": [
    "#create, fit, and score a naive bayes classifier\n",
    "gnb = GaussianNB()\n",
    "gnb.fit(X_train,y_train)\n",
    "gnb.score(X_test,y_test)"
   ]
  },
  {
   "cell_type": "markdown",
   "metadata": {},
   "source": [
    "### Using the MFCCs of song previews to predict genre"
   ]
  },
  {
   "cell_type": "code",
   "execution_count": null,
   "metadata": {},
   "outputs": [],
   "source": []
  }
 ],
 "metadata": {
  "kernelspec": {
   "display_name": "Python 3",
   "language": "python",
   "name": "python3"
  },
  "language_info": {
   "codemirror_mode": {
    "name": "ipython",
    "version": 3
   },
   "file_extension": ".py",
   "mimetype": "text/x-python",
   "name": "python",
   "nbconvert_exporter": "python",
   "pygments_lexer": "ipython3",
   "version": "3.7.6"
  }
 },
 "nbformat": 4,
 "nbformat_minor": 4
}
