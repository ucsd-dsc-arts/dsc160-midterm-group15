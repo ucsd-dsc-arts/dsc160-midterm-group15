{
 "cells": [
  {
   "cell_type": "code",
   "execution_count": 1,
   "metadata": {},
   "outputs": [],
   "source": [
    "import spotipy\n",
    "from spotipy.oauth2 import SpotifyClientCredentials\n",
    "import os\n",
    "import pandas as pd"
   ]
  },
  {
   "cell_type": "markdown",
   "metadata": {},
   "source": [
    "We opted to use Spotify's API in order to get the music. The keys used here are in our environmental variables."
   ]
  },
  {
   "cell_type": "code",
   "execution_count": 2,
   "metadata": {},
   "outputs": [],
   "source": [
    "cid = os.getenv('SPOTIFY_CLIENT_ID')\n",
    "secret = os.getenv('SPOTIFY_SECRET')\n",
    "ccm = SpotifyClientCredentials(client_id=cid, client_secret=secret)\n",
    "sp = spotipy.Spotify(client_credentials_manager=ccm)"
   ]
  },
  {
   "cell_type": "markdown",
   "metadata": {},
   "source": [
    "Since we need playlists of music representative of each genre, we decided to exclusively use Spotify's hand-picked playlists, indicated by the Spotify logo at the top left of the playlist icon.\n",
    "\n",
    "However, when noticing that not every song has a preview mp3 available in the JSON file. This would mean that for any given playlist, we would only have about 20-30 songs whose previews we can analyze.\n",
    "\n",
    "To circumvent this, we sampled broadly from playlists within the genres, removing duplicates and ensuring we had at least 100 mp3s per genre."
   ]
  },
  {
   "cell_type": "markdown",
   "metadata": {},
   "source": [
    "The names of the playlists chosen are as follows,\n",
    "\n",
    "* Rock: \"90's Rock Anthems\", \"80's Rock Anthems\", \"00's Rock Anthems\", \"Rock Classics\"\n",
    "* Classical: \"Classical Essentials\", \"Classical Reading\", \"Classical Focus\"\n",
    "* Hip Hop: \"I Love My WestCoast Classics\", \"I Love My 90's Hip Hop\", \"Get Turnt\"\n",
    "* Punk: \"Classic Punk\", \"Punk Essentials\", \"New Punk Tracks\"\n",
    "* Jazz: \"Jazz Classics\", \"Jazz Classics Blue Note Edition\", \"Late Night Jazz\", \"Smooth Jazz\", \"Jazz X-Press\""
   ]
  },
  {
   "cell_type": "code",
   "execution_count": 3,
   "metadata": {},
   "outputs": [],
   "source": [
    "# Rock\n",
    "rock_new_1 = '37i9dQZF1DX1rVvRgjX59F' #90's Rock Anthems\n",
    "rock_new_2 = '37i9dQZF1DX1spT6G94GFC' #80's Rock Anthems\n",
    "rock_new_3 = '37i9dQZF1DX3oM43CtKnRV' #00's Rock Anthems\n",
    "rock_new_4 = '37i9dQZF1DWXRqgorJj26U' #Rock Classics\n",
    "\n",
    "#Classical\n",
    "classical_new_1 = '37i9dQZF1DWWEJlAGA9gs0' #Classical Essentials\n",
    "classical_new_2 = '37i9dQZF1DWYkztttC1w38' #Classical Reading\n",
    "classical_new_3 = '37i9dQZF1DXd5zUwdn6lPb' #Classical Focus\n",
    "\n",
    "#Hip Hop\n",
    "hiphop_new_1 = '37i9dQZF1DX9sQDbOMReFI' #I Love My West Coast Classics\n",
    "hiphop_new_2 = '37i9dQZF1DX186v583rmzp' #I Love My '90s Hip Hop\n",
    "hiphop_new_3 = '37i9dQZF1DWY4xHQp97fN6' #Get Turnt\n",
    "\n",
    "#Punk\n",
    "punk_new_1 = '37i9dQZF1DX3LDIBRoaCDQ' #Classic Punk\n",
    "punk_new_2 = '37i9dQZF1DXd6tJtr4qeot' #Punk Essentials\n",
    "punk_new_3 = '37i9dQZF1DX0KpeLFwA3tO' #New Punk Tracks\n",
    "\n",
    "#Jazz\n",
    "jazz_new_1 = '37i9dQZF1DXbITWG1ZJKYt' #Jazz Classics\n",
    "jazz_new_2 = '37i9dQZF1DWTR4ZOXTfd9K' #Jazz Classics Blue Note Edition\n",
    "jazz_new_3 = '37i9dQZF1DX4wta20PHgwo' #Late Night Jazz\n",
    "jazz_new_4 = '37i9dQZF1DXdwTUxmGKrdN' #Smooth Jazz\n",
    "jazz_new_5 = '37i9dQZF1DX85XJl1mZAlp' #Jazz X-Press"
   ]
  },
  {
   "cell_type": "markdown",
   "metadata": {},
   "source": [
    "As for what features we'd get at this time, from each playlist we selected the features that gave some kind of description about the qualities of the music, such as duration and whether or not it was explicit. \n",
    "\n",
    "Also, we used the Spotify API's audio features object for each track to extract their additional features, such as key, energy, and time signature. \n",
    "\n",
    "Additionally, we took from each song the url of a 30 second preview, which will be the subject of further analysis later on.\n",
    "\n",
    "Each of these were then put into a pandas dataframe."
   ]
  },
  {
   "cell_type": "code",
   "execution_count": 4,
   "metadata": {},
   "outputs": [],
   "source": [
    "def features(playlist_id):\n",
    "    tracklist = sp.playlist(playlist_id)['tracks']['items']\n",
    "    tracks_features = []\n",
    "    for i in tracklist:\n",
    "        t = i['track']\n",
    "        track_id = t['id']\n",
    "        duration_ms = t['duration_ms']\n",
    "        explicit = t['explicit']\n",
    "        popularity = t['popularity']\n",
    "        preview = t['preview_url']\n",
    "        af = sp.audio_features(track_id)[0]\n",
    "        track_features = [track_id, duration_ms, explicit, popularity, af['danceability'],\n",
    "                         af['energy'], af['key'], af['loudness'], af['mode'], af['speechiness'],\n",
    "                         af['acousticness'], af['instrumentalness'], af['liveness'], \n",
    "                         af['valence'], af['tempo'], af['time_signature'], preview]\n",
    "        tracks_features.append(track_features)\n",
    "    df =  pd.DataFrame(data=tracks_features, columns=['ID', 'Duration', 'Explicit', 'Popularity',\n",
    "                                                      'Danceability', 'Energy', 'Key', 'Loudness',\n",
    "                                                      'Mode', 'Speechiness', 'Acousticness', \n",
    "                                                      'Instrumentalness', 'Liveness', 'Valence',\n",
    "                                                      'Tempo', 'Time Signature', 'Preview'])\n",
    "    return df"
   ]
  },
  {
   "cell_type": "markdown",
   "metadata": {},
   "source": [
    "Using this function, we got a dataframe of features from each playlist."
   ]
  },
  {
   "cell_type": "code",
   "execution_count": 5,
   "metadata": {},
   "outputs": [],
   "source": [
    "#Rock\n",
    "rock_df_1 = features(rock_new_1)\n",
    "rock_df_2 = features(rock_new_2)\n",
    "rock_df_3 = features(rock_new_3)\n",
    "rock_df_4 = features(rock_new_4)\n",
    "\n",
    "#Classical\n",
    "classical_df_1 = features(classical_new_1)\n",
    "classical_df_2 = features(classical_new_2)\n",
    "classical_df_3 = features(classical_new_3)\n",
    "\n",
    "#Hip Hop\n",
    "hiphop_df_1 = features(hiphop_new_1)\n",
    "hiphop_df_2 = features(hiphop_new_2)\n",
    "hiphop_df_3 = features(hiphop_new_3)\n",
    "\n",
    "#Punk\n",
    "punk_df_1 = features(punk_new_1)\n",
    "punk_df_2 = features(punk_new_2)\n",
    "punk_df_3 = features(punk_new_3)\n",
    "\n",
    "#Jazz\n",
    "jazz_df_1 = features(jazz_new_1)\n",
    "jazz_df_2 = features(jazz_new_2)\n",
    "jazz_df_3 = features(jazz_new_3)\n",
    "jazz_df_4 = features(jazz_new_4)\n",
    "jazz_df_5 = features(jazz_new_5)"
   ]
  },
  {
   "cell_type": "markdown",
   "metadata": {},
   "source": [
    "Once these smaller dataframes were acquired, we then merged them, being sure to remove any duplicate songs which may have been present across multiple playlists"
   ]
  },
  {
   "cell_type": "code",
   "execution_count": 6,
   "metadata": {},
   "outputs": [],
   "source": [
    "rock_df = pd.concat([rock_df_1, rock_df_2, rock_df_3, rock_df_4], ignore_index=True).drop_duplicates()\n",
    "classical_df = pd.concat([classical_df_1, classical_df_2, classical_df_3], ignore_index=True).drop_duplicates()\n",
    "hiphop_df = pd.concat([hiphop_df_1, hiphop_df_2, hiphop_df_3], ignore_index=True).drop_duplicates()\n",
    "punk_df = pd.concat([punk_df_1, punk_df_2, punk_df_3], ignore_index=True).drop_duplicates()\n",
    "jazz_df = pd.concat([jazz_df_1, jazz_df_2, jazz_df_3, jazz_df_4, jazz_df_5], ignore_index=True).drop_duplicates()"
   ]
  },
  {
   "cell_type": "markdown",
   "metadata": {},
   "source": [
    "Since we only care about tracks which have previews we can analyze, we then limited the datasets to these observations only"
   ]
  },
  {
   "cell_type": "code",
   "execution_count": 7,
   "metadata": {},
   "outputs": [],
   "source": [
    "rock_df = rock_df[~rock_df['Preview'].isnull()]\n",
    "classical_df = classical_df[~classical_df['Preview'].isnull()]\n",
    "hiphop_df = hiphop_df[~hiphop_df['Preview'].isnull()]\n",
    "punk_df = punk_df[~punk_df['Preview'].isnull()]\n",
    "jazz_df = jazz_df[~jazz_df['Preview'].isnull()]"
   ]
  },
  {
   "cell_type": "code",
   "execution_count": 8,
   "metadata": {},
   "outputs": [
    {
     "data": {
      "text/html": [
       "<div>\n",
       "<style scoped>\n",
       "    .dataframe tbody tr th:only-of-type {\n",
       "        vertical-align: middle;\n",
       "    }\n",
       "\n",
       "    .dataframe tbody tr th {\n",
       "        vertical-align: top;\n",
       "    }\n",
       "\n",
       "    .dataframe thead th {\n",
       "        text-align: right;\n",
       "    }\n",
       "</style>\n",
       "<table border=\"1\" class=\"dataframe\">\n",
       "  <thead>\n",
       "    <tr style=\"text-align: right;\">\n",
       "      <th></th>\n",
       "      <th>ID</th>\n",
       "      <th>Duration</th>\n",
       "      <th>Explicit</th>\n",
       "      <th>Popularity</th>\n",
       "      <th>Danceability</th>\n",
       "      <th>Energy</th>\n",
       "      <th>Key</th>\n",
       "      <th>Loudness</th>\n",
       "      <th>Mode</th>\n",
       "      <th>Speechiness</th>\n",
       "      <th>Acousticness</th>\n",
       "      <th>Instrumentalness</th>\n",
       "      <th>Liveness</th>\n",
       "      <th>Valence</th>\n",
       "      <th>Tempo</th>\n",
       "      <th>Time Signature</th>\n",
       "      <th>Preview</th>\n",
       "    </tr>\n",
       "  </thead>\n",
       "  <tbody>\n",
       "    <tr>\n",
       "      <th>1</th>\n",
       "      <td>62nQ8UZVqR2RMvkJHkcO2o</td>\n",
       "      <td>318226</td>\n",
       "      <td>False</td>\n",
       "      <td>72</td>\n",
       "      <td>0.285</td>\n",
       "      <td>0.846</td>\n",
       "      <td>2</td>\n",
       "      <td>-6.472</td>\n",
       "      <td>1</td>\n",
       "      <td>0.0438</td>\n",
       "      <td>0.0404</td>\n",
       "      <td>0.000000</td>\n",
       "      <td>0.1820</td>\n",
       "      <td>0.287</td>\n",
       "      <td>108.808</td>\n",
       "      <td>4</td>\n",
       "      <td>https://p.scdn.co/mp3-preview/c5742cc09643dc07...</td>\n",
       "    </tr>\n",
       "    <tr>\n",
       "      <th>2</th>\n",
       "      <td>59WN2psjkt1tyaxjspN8fp</td>\n",
       "      <td>313573</td>\n",
       "      <td>True</td>\n",
       "      <td>78</td>\n",
       "      <td>0.466</td>\n",
       "      <td>0.833</td>\n",
       "      <td>7</td>\n",
       "      <td>-4.215</td>\n",
       "      <td>1</td>\n",
       "      <td>0.3040</td>\n",
       "      <td>0.0266</td>\n",
       "      <td>0.000000</td>\n",
       "      <td>0.0327</td>\n",
       "      <td>0.661</td>\n",
       "      <td>88.785</td>\n",
       "      <td>4</td>\n",
       "      <td>https://p.scdn.co/mp3-preview/af0c42e6dacc0b8b...</td>\n",
       "    </tr>\n",
       "    <tr>\n",
       "      <th>3</th>\n",
       "      <td>3d9DChrdc6BOeFsbrZ3Is0</td>\n",
       "      <td>264306</td>\n",
       "      <td>False</td>\n",
       "      <td>81</td>\n",
       "      <td>0.559</td>\n",
       "      <td>0.345</td>\n",
       "      <td>4</td>\n",
       "      <td>-13.496</td>\n",
       "      <td>1</td>\n",
       "      <td>0.0459</td>\n",
       "      <td>0.0576</td>\n",
       "      <td>0.000105</td>\n",
       "      <td>0.1410</td>\n",
       "      <td>0.458</td>\n",
       "      <td>84.581</td>\n",
       "      <td>4</td>\n",
       "      <td>https://p.scdn.co/mp3-preview/90e41778392f27b6...</td>\n",
       "    </tr>\n",
       "    <tr>\n",
       "      <th>6</th>\n",
       "      <td>5jafMI8FLibnjkYTZ33m0c</td>\n",
       "      <td>257480</td>\n",
       "      <td>False</td>\n",
       "      <td>73</td>\n",
       "      <td>0.418</td>\n",
       "      <td>0.383</td>\n",
       "      <td>4</td>\n",
       "      <td>-11.782</td>\n",
       "      <td>1</td>\n",
       "      <td>0.0257</td>\n",
       "      <td>0.0718</td>\n",
       "      <td>0.017700</td>\n",
       "      <td>0.0896</td>\n",
       "      <td>0.352</td>\n",
       "      <td>87.773</td>\n",
       "      <td>4</td>\n",
       "      <td>https://p.scdn.co/mp3-preview/7cc3982631523940...</td>\n",
       "    </tr>\n",
       "    <tr>\n",
       "      <th>9</th>\n",
       "      <td>4PtZE0h5oyPhCtPjg3NeYQ</td>\n",
       "      <td>255573</td>\n",
       "      <td>False</td>\n",
       "      <td>64</td>\n",
       "      <td>0.527</td>\n",
       "      <td>0.838</td>\n",
       "      <td>3</td>\n",
       "      <td>-6.013</td>\n",
       "      <td>1</td>\n",
       "      <td>0.0323</td>\n",
       "      <td>0.0206</td>\n",
       "      <td>0.000662</td>\n",
       "      <td>0.0700</td>\n",
       "      <td>0.721</td>\n",
       "      <td>117.454</td>\n",
       "      <td>4</td>\n",
       "      <td>https://p.scdn.co/mp3-preview/b1dd1977653f3668...</td>\n",
       "    </tr>\n",
       "  </tbody>\n",
       "</table>\n",
       "</div>"
      ],
      "text/plain": [
       "                       ID  Duration  Explicit  Popularity  Danceability  \\\n",
       "1  62nQ8UZVqR2RMvkJHkcO2o    318226     False          72         0.285   \n",
       "2  59WN2psjkt1tyaxjspN8fp    313573      True          78         0.466   \n",
       "3  3d9DChrdc6BOeFsbrZ3Is0    264306     False          81         0.559   \n",
       "6  5jafMI8FLibnjkYTZ33m0c    257480     False          73         0.418   \n",
       "9  4PtZE0h5oyPhCtPjg3NeYQ    255573     False          64         0.527   \n",
       "\n",
       "   Energy  Key  Loudness  Mode  Speechiness  Acousticness  Instrumentalness  \\\n",
       "1   0.846    2    -6.472     1       0.0438        0.0404          0.000000   \n",
       "2   0.833    7    -4.215     1       0.3040        0.0266          0.000000   \n",
       "3   0.345    4   -13.496     1       0.0459        0.0576          0.000105   \n",
       "6   0.383    4   -11.782     1       0.0257        0.0718          0.017700   \n",
       "9   0.838    3    -6.013     1       0.0323        0.0206          0.000662   \n",
       "\n",
       "   Liveness  Valence    Tempo  Time Signature  \\\n",
       "1    0.1820    0.287  108.808               4   \n",
       "2    0.0327    0.661   88.785               4   \n",
       "3    0.1410    0.458   84.581               4   \n",
       "6    0.0896    0.352   87.773               4   \n",
       "9    0.0700    0.721  117.454               4   \n",
       "\n",
       "                                             Preview  \n",
       "1  https://p.scdn.co/mp3-preview/c5742cc09643dc07...  \n",
       "2  https://p.scdn.co/mp3-preview/af0c42e6dacc0b8b...  \n",
       "3  https://p.scdn.co/mp3-preview/90e41778392f27b6...  \n",
       "6  https://p.scdn.co/mp3-preview/7cc3982631523940...  \n",
       "9  https://p.scdn.co/mp3-preview/b1dd1977653f3668...  "
      ]
     },
     "execution_count": 8,
     "metadata": {},
     "output_type": "execute_result"
    }
   ],
   "source": [
    "rock_df.head()"
   ]
  },
  {
   "cell_type": "markdown",
   "metadata": {},
   "source": [
    "We were then finally left with over 100 observations from each genre to analyze."
   ]
  },
  {
   "cell_type": "code",
   "execution_count": 9,
   "metadata": {},
   "outputs": [
    {
     "name": "stdout",
     "output_type": "stream",
     "text": [
      "Rock: 130\n",
      "Classical: 190\n",
      "Hip Hop: 142\n",
      "Punk: 147\n",
      "Jazz: 141\n"
     ]
    }
   ],
   "source": [
    "print('Rock: ' + str(len(rock_df)))\n",
    "print('Classical: ' + str(len(classical_df)))\n",
    "print('Hip Hop: ' + str(len(hiphop_df)))\n",
    "print('Punk: ' + str(len(punk_df)))\n",
    "print('Jazz: ' + str(len(jazz_df)))"
   ]
  },
  {
   "cell_type": "markdown",
   "metadata": {},
   "source": [
    "With these dataframes created, we exported them to CSV files to be analyzed and cleaned"
   ]
  },
  {
   "cell_type": "code",
   "execution_count": 10,
   "metadata": {},
   "outputs": [],
   "source": [
    "rock_df.to_csv('data/rock_df.csv')\n",
    "classical_df.to_csv('data/classical_df.csv')\n",
    "hiphop_df.to_csv('data/hiphop_df.csv')\n",
    "punk_df.to_csv('data/punk_df.csv')\n",
    "jazz_df.to_csv('data/jazz_df.csv')"
   ]
  }
 ],
 "metadata": {
  "kernelspec": {
   "display_name": "Python 3",
   "language": "python",
   "name": "python3"
  },
  "language_info": {
   "codemirror_mode": {
    "name": "ipython",
    "version": 3
   },
   "file_extension": ".py",
   "mimetype": "text/x-python",
   "name": "python",
   "nbconvert_exporter": "python",
   "pygments_lexer": "ipython3",
   "version": "3.7.3"
  }
 },
 "nbformat": 4,
 "nbformat_minor": 2
}
