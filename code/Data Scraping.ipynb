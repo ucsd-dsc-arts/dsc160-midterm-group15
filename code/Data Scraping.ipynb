{
 "cells": [
  {
   "cell_type": "code",
   "execution_count": 1,
   "metadata": {},
   "outputs": [],
   "source": [
    "import spotipy\n",
    "from spotipy.oauth2 import SpotifyClientCredentials\n",
    "import os\n",
    "import pandas as pd"
   ]
  },
  {
   "cell_type": "code",
   "execution_count": 2,
   "metadata": {},
   "outputs": [],
   "source": [
    "import time"
   ]
  },
  {
   "cell_type": "markdown",
   "metadata": {},
   "source": [
    "We opted to use Spotify's API in order to get the music. The keys used here are in our environmental variables."
   ]
  },
  {
   "cell_type": "code",
   "execution_count": 3,
   "metadata": {},
   "outputs": [],
   "source": [
    "cid = os.getenv('SPOTIFY_CLIENT_ID')\n",
    "secret = os.getenv('SPOTIFY_SECRET')\n",
    "ccm = SpotifyClientCredentials(client_id=cid, client_secret=secret)\n",
    "sp = spotipy.Spotify(client_credentials_manager=ccm)"
   ]
  },
  {
   "cell_type": "markdown",
   "metadata": {},
   "source": [
    "Since we need playlists of music representative of each genre, we decided to exclusively use Spotify's hand-picked playlists, each of 100 songs and each displayed with spotify's logo in the top right."
   ]
  },
  {
   "cell_type": "markdown",
   "metadata": {},
   "source": [
    "The names of the playlists chosen are as follows,\n",
    "\n",
    "* Rock: \"80's Rock Anthems\"\n",
    "* Classical: \"Reading Classical\"\n",
    "* Hip Hop: \"I Love My 90's Hip Hop\"\n",
    "* Punk: \"Classic Punk\"\n",
    "* Jazz: \"Jazz Classics\""
   ]
  },
  {
   "cell_type": "code",
   "execution_count": 4,
   "metadata": {},
   "outputs": [],
   "source": [
    "#Playlist IDs\n",
    "\n",
    "rock_80s = '37i9dQZF1DX1spT6G94GFC'\n",
    "read_class = '37i9dQZF1DWYkztttC1w38'\n",
    "hip_hop_90s = '37i9dQZF1DX186v583rmzp'\n",
    "classic_punk = '37i9dQZF1DX3LDIBRoaCDQ'\n",
    "classic_jazz = '37i9dQZF1DXbITWG1ZJKYt'"
   ]
  },
  {
   "cell_type": "markdown",
   "metadata": {},
   "source": [
    "As for what features we'd get at this time, from each playlist we selected the features that gave some kind of description about the qualities of the music, such as duration and whether or not it was explicit. \n",
    "\n",
    "Also, we used the Spotify API's audio features object for each track to extract their additional features, such as key, energy, and time signature. \n",
    "\n",
    "Additionally, we took from each song (if available) the url of a 30 second preview, which will be the subject of further analysis later on.\n",
    "\n",
    "Each of these were then put into a pandas dataframe."
   ]
  },
  {
   "cell_type": "code",
   "execution_count": 5,
   "metadata": {},
   "outputs": [],
   "source": [
    "def features(playlist_id):\n",
    "    tracklist = sp.playlist(playlist_id)['tracks']['items']\n",
    "    tracks_features = []\n",
    "    for i in tracklist:\n",
    "        t = i['track']\n",
    "        track_id = t['id']\n",
    "        duration_ms = t['duration_ms']\n",
    "        explicit = t['explicit']\n",
    "        popularity = t['popularity']\n",
    "        preview = t['preview_url']\n",
    "        af = sp.audio_features(track_id)[0]\n",
    "        track_features = [track_id, duration_ms, explicit, popularity, af['danceability'],\n",
    "                         af['energy'], af['key'], af['loudness'], af['mode'], af['speechiness'],\n",
    "                         af['acousticness'], af['instrumentalness'], af['liveness'], \n",
    "                         af['valence'], af['tempo'], af['time_signature'], preview]\n",
    "        tracks_features.append(track_features)\n",
    "    df =  pd.DataFrame(data=tracks_features, columns=['ID', 'Duration', 'Explicit', 'Popularity',\n",
    "                                                      'Danceability', 'Energy', 'Key', 'Loudness',\n",
    "                                                      'Mode', 'Speechiness', 'Acousticness', \n",
    "                                                      'Instrumentalness', 'Liveness', 'Valence',\n",
    "                                                      'Tempo', 'Time Signature', 'Preview'])\n",
    "    return df"
   ]
  },
  {
   "cell_type": "markdown",
   "metadata": {},
   "source": [
    "Using this function, we created five dataframes for each of the five genres we're analyzing"
   ]
  },
  {
   "cell_type": "code",
   "execution_count": 6,
   "metadata": {},
   "outputs": [],
   "source": [
    "rock_df = features(rock_80s)\n",
    "classical_df = features(read_class)\n",
    "hiphop_df = features(hip_hop_90s)\n",
    "punk_df = features(classic_punk)\n",
    "jazz_df = features(classic_jazz)"
   ]
  },
  {
   "cell_type": "code",
   "execution_count": 7,
   "metadata": {},
   "outputs": [
    {
     "data": {
      "text/html": [
       "<div>\n",
       "<style scoped>\n",
       "    .dataframe tbody tr th:only-of-type {\n",
       "        vertical-align: middle;\n",
       "    }\n",
       "\n",
       "    .dataframe tbody tr th {\n",
       "        vertical-align: top;\n",
       "    }\n",
       "\n",
       "    .dataframe thead th {\n",
       "        text-align: right;\n",
       "    }\n",
       "</style>\n",
       "<table border=\"1\" class=\"dataframe\">\n",
       "  <thead>\n",
       "    <tr style=\"text-align: right;\">\n",
       "      <th></th>\n",
       "      <th>ID</th>\n",
       "      <th>Duration</th>\n",
       "      <th>Explicit</th>\n",
       "      <th>Popularity</th>\n",
       "      <th>Danceability</th>\n",
       "      <th>Energy</th>\n",
       "      <th>Key</th>\n",
       "      <th>Loudness</th>\n",
       "      <th>Mode</th>\n",
       "      <th>Speechiness</th>\n",
       "      <th>Acousticness</th>\n",
       "      <th>Instrumentalness</th>\n",
       "      <th>Liveness</th>\n",
       "      <th>Valence</th>\n",
       "      <th>Tempo</th>\n",
       "      <th>Time Signature</th>\n",
       "      <th>Preview</th>\n",
       "    </tr>\n",
       "  </thead>\n",
       "  <tbody>\n",
       "    <tr>\n",
       "      <th>0</th>\n",
       "      <td>3rdxvEfBp86WNcRDLaFEk9</td>\n",
       "      <td>270160</td>\n",
       "      <td>False</td>\n",
       "      <td>12</td>\n",
       "      <td>0.390</td>\n",
       "      <td>0.898</td>\n",
       "      <td>7</td>\n",
       "      <td>-4.089</td>\n",
       "      <td>1</td>\n",
       "      <td>0.0450</td>\n",
       "      <td>0.20700</td>\n",
       "      <td>0.000066</td>\n",
       "      <td>0.2170</td>\n",
       "      <td>0.204</td>\n",
       "      <td>90.703</td>\n",
       "      <td>4</td>\n",
       "      <td>None</td>\n",
       "    </tr>\n",
       "    <tr>\n",
       "      <th>1</th>\n",
       "      <td>2SiXAy7TuUkycRVbbWDEpo</td>\n",
       "      <td>210173</td>\n",
       "      <td>False</td>\n",
       "      <td>79</td>\n",
       "      <td>0.532</td>\n",
       "      <td>0.767</td>\n",
       "      <td>7</td>\n",
       "      <td>-5.509</td>\n",
       "      <td>1</td>\n",
       "      <td>0.0574</td>\n",
       "      <td>0.00287</td>\n",
       "      <td>0.000513</td>\n",
       "      <td>0.3900</td>\n",
       "      <td>0.755</td>\n",
       "      <td>127.361</td>\n",
       "      <td>4</td>\n",
       "      <td>https://p.scdn.co/mp3-preview/2a200f628c41fadd...</td>\n",
       "    </tr>\n",
       "    <tr>\n",
       "      <th>2</th>\n",
       "      <td>4MhTFsyqIJnjsOweVcU8ug</td>\n",
       "      <td>356400</td>\n",
       "      <td>False</td>\n",
       "      <td>17</td>\n",
       "      <td>0.449</td>\n",
       "      <td>0.901</td>\n",
       "      <td>6</td>\n",
       "      <td>-7.711</td>\n",
       "      <td>1</td>\n",
       "      <td>0.0526</td>\n",
       "      <td>0.14100</td>\n",
       "      <td>0.067500</td>\n",
       "      <td>0.1280</td>\n",
       "      <td>0.696</td>\n",
       "      <td>125.148</td>\n",
       "      <td>4</td>\n",
       "      <td>None</td>\n",
       "    </tr>\n",
       "    <tr>\n",
       "      <th>3</th>\n",
       "      <td>7qQnBfwXrw2tZNFG4Uf57N</td>\n",
       "      <td>250626</td>\n",
       "      <td>False</td>\n",
       "      <td>12</td>\n",
       "      <td>0.520</td>\n",
       "      <td>0.887</td>\n",
       "      <td>0</td>\n",
       "      <td>-3.296</td>\n",
       "      <td>1</td>\n",
       "      <td>0.0349</td>\n",
       "      <td>0.06650</td>\n",
       "      <td>0.000179</td>\n",
       "      <td>0.1860</td>\n",
       "      <td>0.793</td>\n",
       "      <td>122.528</td>\n",
       "      <td>4</td>\n",
       "      <td>None</td>\n",
       "    </tr>\n",
       "    <tr>\n",
       "      <th>4</th>\n",
       "      <td>7N3PAbqfTjSEU1edb2tY8j</td>\n",
       "      <td>241599</td>\n",
       "      <td>False</td>\n",
       "      <td>78</td>\n",
       "      <td>0.572</td>\n",
       "      <td>0.835</td>\n",
       "      <td>0</td>\n",
       "      <td>-6.219</td>\n",
       "      <td>1</td>\n",
       "      <td>0.0317</td>\n",
       "      <td>0.17100</td>\n",
       "      <td>0.000376</td>\n",
       "      <td>0.0702</td>\n",
       "      <td>0.796</td>\n",
       "      <td>129.994</td>\n",
       "      <td>4</td>\n",
       "      <td>https://p.scdn.co/mp3-preview/f6e554cadfb84a51...</td>\n",
       "    </tr>\n",
       "  </tbody>\n",
       "</table>\n",
       "</div>"
      ],
      "text/plain": [
       "                       ID  Duration  Explicit  Popularity  Danceability  \\\n",
       "0  3rdxvEfBp86WNcRDLaFEk9    270160     False          12         0.390   \n",
       "1  2SiXAy7TuUkycRVbbWDEpo    210173     False          79         0.532   \n",
       "2  4MhTFsyqIJnjsOweVcU8ug    356400     False          17         0.449   \n",
       "3  7qQnBfwXrw2tZNFG4Uf57N    250626     False          12         0.520   \n",
       "4  7N3PAbqfTjSEU1edb2tY8j    241599     False          78         0.572   \n",
       "\n",
       "   Energy  Key  Loudness  Mode  Speechiness  Acousticness  Instrumentalness  \\\n",
       "0   0.898    7    -4.089     1       0.0450       0.20700          0.000066   \n",
       "1   0.767    7    -5.509     1       0.0574       0.00287          0.000513   \n",
       "2   0.901    6    -7.711     1       0.0526       0.14100          0.067500   \n",
       "3   0.887    0    -3.296     1       0.0349       0.06650          0.000179   \n",
       "4   0.835    0    -6.219     1       0.0317       0.17100          0.000376   \n",
       "\n",
       "   Liveness  Valence    Tempo  Time Signature  \\\n",
       "0    0.2170    0.204   90.703               4   \n",
       "1    0.3900    0.755  127.361               4   \n",
       "2    0.1280    0.696  125.148               4   \n",
       "3    0.1860    0.793  122.528               4   \n",
       "4    0.0702    0.796  129.994               4   \n",
       "\n",
       "                                             Preview  \n",
       "0                                               None  \n",
       "1  https://p.scdn.co/mp3-preview/2a200f628c41fadd...  \n",
       "2                                               None  \n",
       "3                                               None  \n",
       "4  https://p.scdn.co/mp3-preview/f6e554cadfb84a51...  "
      ]
     },
     "execution_count": 7,
     "metadata": {},
     "output_type": "execute_result"
    }
   ],
   "source": [
    "rock_df.head()"
   ]
  },
  {
   "cell_type": "markdown",
   "metadata": {},
   "source": [
    "With these dataframes created, we exported them to CSV files to be analyzed and cleaned"
   ]
  },
  {
   "cell_type": "code",
   "execution_count": 8,
   "metadata": {},
   "outputs": [],
   "source": [
    "rock_df.to_csv('data/rock_df.csv')\n",
    "classical_df.to_csv('data/classical_df.csv')\n",
    "hiphop_df.to_csv('data/hiphop_df.csv')\n",
    "punk_df.to_csv('data/punk_df.csv')\n",
    "jazz_df.to_csv('data/jazz_df.csv')"
   ]
  }
 ],
 "metadata": {
  "kernelspec": {
   "display_name": "Python 3",
   "language": "python",
   "name": "python3"
  },
  "language_info": {
   "codemirror_mode": {
    "name": "ipython",
    "version": 3
   },
   "file_extension": ".py",
   "mimetype": "text/x-python",
   "name": "python",
   "nbconvert_exporter": "python",
   "pygments_lexer": "ipython3",
   "version": "3.7.3"
  }
 },
 "nbformat": 4,
 "nbformat_minor": 2
}
