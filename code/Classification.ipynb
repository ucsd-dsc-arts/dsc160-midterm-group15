{
 "cells": [
  {
   "cell_type": "markdown",
   "metadata": {},
   "source": [
    "# Classification"
   ]
  },
  {
   "cell_type": "code",
   "execution_count": 20,
   "metadata": {},
   "outputs": [],
   "source": [
    "import sklearn\n",
    "import pandas as pd\n",
    "import numpy as np\n",
    "import os\n",
    "import matplotlib.pyplot as plt"
   ]
  },
  {
   "cell_type": "markdown",
   "metadata": {},
   "source": [
    "Our first step here was to initialize and shuffle the dataframe"
   ]
  },
  {
   "cell_type": "code",
   "execution_count": 2,
   "metadata": {},
   "outputs": [],
   "source": [
    "df = pd.read_pickle('combined.pkl')"
   ]
  },
  {
   "cell_type": "code",
   "execution_count": 3,
   "metadata": {},
   "outputs": [],
   "source": [
    "df = df.drop(['ID', 'Preview', 'Sampling Rate'], axis=1)"
   ]
  },
  {
   "cell_type": "code",
   "execution_count": 4,
   "metadata": {},
   "outputs": [],
   "source": [
    "df = df.sample(frac=1)"
   ]
  },
  {
   "cell_type": "code",
   "execution_count": 5,
   "metadata": {},
   "outputs": [
    {
     "data": {
      "text/html": [
       "<div>\n",
       "<style scoped>\n",
       "    .dataframe tbody tr th:only-of-type {\n",
       "        vertical-align: middle;\n",
       "    }\n",
       "\n",
       "    .dataframe tbody tr th {\n",
       "        vertical-align: top;\n",
       "    }\n",
       "\n",
       "    .dataframe thead th {\n",
       "        text-align: right;\n",
       "    }\n",
       "</style>\n",
       "<table border=\"1\" class=\"dataframe\">\n",
       "  <thead>\n",
       "    <tr style=\"text-align: right;\">\n",
       "      <th></th>\n",
       "      <th>Duration</th>\n",
       "      <th>Explicit</th>\n",
       "      <th>Popularity</th>\n",
       "      <th>Danceability</th>\n",
       "      <th>Energy</th>\n",
       "      <th>Key</th>\n",
       "      <th>Loudness</th>\n",
       "      <th>Mode</th>\n",
       "      <th>Speechiness</th>\n",
       "      <th>Acousticness</th>\n",
       "      <th>Instrumentalness</th>\n",
       "      <th>Liveness</th>\n",
       "      <th>Valence</th>\n",
       "      <th>Tempo</th>\n",
       "      <th>Time Signature</th>\n",
       "      <th>Time Series</th>\n",
       "      <th>Log Mel</th>\n",
       "      <th>MFCC</th>\n",
       "      <th>Genre</th>\n",
       "    </tr>\n",
       "  </thead>\n",
       "  <tbody>\n",
       "    <tr>\n",
       "      <th>24</th>\n",
       "      <td>268360</td>\n",
       "      <td>False</td>\n",
       "      <td>74</td>\n",
       "      <td>0.640</td>\n",
       "      <td>0.8640</td>\n",
       "      <td>7</td>\n",
       "      <td>-6.576</td>\n",
       "      <td>1</td>\n",
       "      <td>0.0315</td>\n",
       "      <td>0.00832</td>\n",
       "      <td>0.000</td>\n",
       "      <td>0.123</td>\n",
       "      <td>0.7000</td>\n",
       "      <td>102.026</td>\n",
       "      <td>4</td>\n",
       "      <td>[0.10590558, 0.19711645, 0.13088821, 0.1128118...</td>\n",
       "      <td>[[16.534817, 10.453264, -0.5469831, -3.4472501...</td>\n",
       "      <td>[[-0.1322102, 0.08087217, 0.35945794, 1.190186...</td>\n",
       "      <td>Rock</td>\n",
       "    </tr>\n",
       "    <tr>\n",
       "      <th>333</th>\n",
       "      <td>163133</td>\n",
       "      <td>True</td>\n",
       "      <td>62</td>\n",
       "      <td>0.907</td>\n",
       "      <td>0.6250</td>\n",
       "      <td>1</td>\n",
       "      <td>-5.557</td>\n",
       "      <td>1</td>\n",
       "      <td>0.1980</td>\n",
       "      <td>0.00420</td>\n",
       "      <td>0.000</td>\n",
       "      <td>0.151</td>\n",
       "      <td>0.6050</td>\n",
       "      <td>99.918</td>\n",
       "      <td>4</td>\n",
       "      <td>[-0.21343508, -0.36110637, -0.36066702, -0.393...</td>\n",
       "      <td>[[19.154411, 17.669077, 17.2517, 15.003145, 20...</td>\n",
       "      <td>[[0.42723012, 0.5915232, 0.11076518, -1.238277...</td>\n",
       "      <td>Hip Hop</td>\n",
       "    </tr>\n",
       "    <tr>\n",
       "      <th>445</th>\n",
       "      <td>144892</td>\n",
       "      <td>True</td>\n",
       "      <td>66</td>\n",
       "      <td>0.830</td>\n",
       "      <td>0.5710</td>\n",
       "      <td>9</td>\n",
       "      <td>-5.935</td>\n",
       "      <td>1</td>\n",
       "      <td>0.2590</td>\n",
       "      <td>0.00249</td>\n",
       "      <td>0.000</td>\n",
       "      <td>0.106</td>\n",
       "      <td>0.1690</td>\n",
       "      <td>121.834</td>\n",
       "      <td>4</td>\n",
       "      <td>[-0.21971454, -0.30678064, -0.26894784, -0.325...</td>\n",
       "      <td>[[16.474455, 18.05169, 18.902544, 20.99416, 18...</td>\n",
       "      <td>[[-0.1531789, 1.1458981, -0.18020296, 0.024294...</td>\n",
       "      <td>Hip Hop</td>\n",
       "    </tr>\n",
       "    <tr>\n",
       "      <th>215</th>\n",
       "      <td>256586</td>\n",
       "      <td>False</td>\n",
       "      <td>39</td>\n",
       "      <td>0.209</td>\n",
       "      <td>0.0407</td>\n",
       "      <td>5</td>\n",
       "      <td>-20.998</td>\n",
       "      <td>1</td>\n",
       "      <td>0.0450</td>\n",
       "      <td>0.99500</td>\n",
       "      <td>0.894</td>\n",
       "      <td>0.109</td>\n",
       "      <td>0.0788</td>\n",
       "      <td>66.236</td>\n",
       "      <td>3</td>\n",
       "      <td>[0.025660956, 0.062639564, 0.08560159, 0.10003...</td>\n",
       "      <td>[[-8.026685, -13.733593, -27.654322, -26.81711...</td>\n",
       "      <td>[[1.9252516, 0.38760468, 0.40050322, 1.4157614...</td>\n",
       "      <td>Classical</td>\n",
       "    </tr>\n",
       "    <tr>\n",
       "      <th>453</th>\n",
       "      <td>227132</td>\n",
       "      <td>True</td>\n",
       "      <td>58</td>\n",
       "      <td>0.912</td>\n",
       "      <td>0.5150</td>\n",
       "      <td>1</td>\n",
       "      <td>-4.770</td>\n",
       "      <td>1</td>\n",
       "      <td>0.0712</td>\n",
       "      <td>0.06480</td>\n",
       "      <td>0.000</td>\n",
       "      <td>0.133</td>\n",
       "      <td>0.0641</td>\n",
       "      <td>126.013</td>\n",
       "      <td>4</td>\n",
       "      <td>[-0.13140564, -0.27910855, -0.30138627, -0.332...</td>\n",
       "      <td>[[31.903458, 32.209827, 32.415005, 32.497406, ...</td>\n",
       "      <td>[[-0.55969465, 0.5004339, 0.027416136, -0.1669...</td>\n",
       "      <td>Hip Hop</td>\n",
       "    </tr>\n",
       "  </tbody>\n",
       "</table>\n",
       "</div>"
      ],
      "text/plain": [
       "     Duration  Explicit  Popularity  Danceability  Energy  Key  Loudness  \\\n",
       "24     268360     False          74         0.640  0.8640    7    -6.576   \n",
       "333    163133      True          62         0.907  0.6250    1    -5.557   \n",
       "445    144892      True          66         0.830  0.5710    9    -5.935   \n",
       "215    256586     False          39         0.209  0.0407    5   -20.998   \n",
       "453    227132      True          58         0.912  0.5150    1    -4.770   \n",
       "\n",
       "     Mode  Speechiness  Acousticness  Instrumentalness  Liveness  Valence  \\\n",
       "24      1       0.0315       0.00832             0.000     0.123   0.7000   \n",
       "333     1       0.1980       0.00420             0.000     0.151   0.6050   \n",
       "445     1       0.2590       0.00249             0.000     0.106   0.1690   \n",
       "215     1       0.0450       0.99500             0.894     0.109   0.0788   \n",
       "453     1       0.0712       0.06480             0.000     0.133   0.0641   \n",
       "\n",
       "       Tempo  Time Signature  \\\n",
       "24   102.026               4   \n",
       "333   99.918               4   \n",
       "445  121.834               4   \n",
       "215   66.236               3   \n",
       "453  126.013               4   \n",
       "\n",
       "                                           Time Series  \\\n",
       "24   [0.10590558, 0.19711645, 0.13088821, 0.1128118...   \n",
       "333  [-0.21343508, -0.36110637, -0.36066702, -0.393...   \n",
       "445  [-0.21971454, -0.30678064, -0.26894784, -0.325...   \n",
       "215  [0.025660956, 0.062639564, 0.08560159, 0.10003...   \n",
       "453  [-0.13140564, -0.27910855, -0.30138627, -0.332...   \n",
       "\n",
       "                                               Log Mel  \\\n",
       "24   [[16.534817, 10.453264, -0.5469831, -3.4472501...   \n",
       "333  [[19.154411, 17.669077, 17.2517, 15.003145, 20...   \n",
       "445  [[16.474455, 18.05169, 18.902544, 20.99416, 18...   \n",
       "215  [[-8.026685, -13.733593, -27.654322, -26.81711...   \n",
       "453  [[31.903458, 32.209827, 32.415005, 32.497406, ...   \n",
       "\n",
       "                                                  MFCC      Genre  \n",
       "24   [[-0.1322102, 0.08087217, 0.35945794, 1.190186...       Rock  \n",
       "333  [[0.42723012, 0.5915232, 0.11076518, -1.238277...    Hip Hop  \n",
       "445  [[-0.1531789, 1.1458981, -0.18020296, 0.024294...    Hip Hop  \n",
       "215  [[1.9252516, 0.38760468, 0.40050322, 1.4157614...  Classical  \n",
       "453  [[-0.55969465, 0.5004339, 0.027416136, -0.1669...    Hip Hop  "
      ]
     },
     "execution_count": 5,
     "metadata": {},
     "output_type": "execute_result"
    }
   ],
   "source": [
    "df.head()"
   ]
  },
  {
   "cell_type": "markdown",
   "metadata": {},
   "source": [
    "Unfortunately, we ran into some significant issues trying to work with our extracted audio features, which each had hundreds of thousands of values. \n",
    "\n",
    "For the time being, we decided to temporarily drop them and see how our classifier did with Spotify's features only"
   ]
  },
  {
   "cell_type": "code",
   "execution_count": 6,
   "metadata": {},
   "outputs": [],
   "source": [
    "tdf = df.drop(['Time Series', 'Log Mel', 'MFCC'], axis=1)"
   ]
  },
  {
   "cell_type": "code",
   "execution_count": 7,
   "metadata": {},
   "outputs": [],
   "source": [
    "from sklearn.naive_bayes import GaussianNB\n",
    "clf = GaussianNB()"
   ]
  },
  {
   "cell_type": "code",
   "execution_count": 8,
   "metadata": {},
   "outputs": [
    {
     "data": {
      "text/plain": [
       "GaussianNB(priors=None, var_smoothing=1e-09)"
      ]
     },
     "execution_count": 8,
     "metadata": {},
     "output_type": "execute_result"
    }
   ],
   "source": [
    "clf.fit(tdf[:675].drop(['Genre'], axis=1), y=tdf[:675]['Genre'])"
   ]
  },
  {
   "cell_type": "markdown",
   "metadata": {},
   "source": [
    "The model seems to do decently with only Spotify's features, with an accuracy of 69.33%"
   ]
  },
  {
   "cell_type": "code",
   "execution_count": 9,
   "metadata": {},
   "outputs": [
    {
     "data": {
      "text/plain": [
       "0.6933333333333334"
      ]
     },
     "execution_count": 9,
     "metadata": {},
     "output_type": "execute_result"
    }
   ],
   "source": [
    "preds = clf.predict(tdf[675:].drop(['Genre'], axis=1))\n",
    "(preds == tdf[675:]['Genre']).mean()"
   ]
  },
  {
   "cell_type": "markdown",
   "metadata": {},
   "source": [
    "To still make use of the features we added, we tried a simple approach: simply take the mean and standard deviation of each of the chain of values."
   ]
  },
  {
   "cell_type": "code",
   "execution_count": 10,
   "metadata": {},
   "outputs": [],
   "source": [
    "df['TS_mean'] = df['Time Series'].apply(lambda x: np.mean(x))\n",
    "df['TS_std'] = df['Time Series'].apply(lambda x: np.std(x))\n",
    "df['LM_mean'] = df['Log Mel'].apply(lambda x: np.mean(x))\n",
    "df['LM_std'] = df['Log Mel'].apply(lambda x: np.std(x))\n",
    "df['MFCC_mean'] = df['MFCC'].apply(lambda x: np.mean(x))\n",
    "df['MFCC_std'] = df['MFCC'].apply(lambda x: np.std(x))\n",
    "df = df.drop(['Time Series', 'Log Mel', 'MFCC'], axis=1)"
   ]
  },
  {
   "cell_type": "markdown",
   "metadata": {},
   "source": [
    "It turns out that these features were actually quite significant- !  \n",
    "This improved our model considerably, giving it a new accuracy of 0.773"
   ]
  },
  {
   "cell_type": "code",
   "execution_count": 11,
   "metadata": {},
   "outputs": [
    {
     "data": {
      "text/plain": [
       "0.7733333333333333"
      ]
     },
     "execution_count": 11,
     "metadata": {},
     "output_type": "execute_result"
    }
   ],
   "source": [
    "clf.fit(df[:675].drop(['Genre'], axis=1), y=df[:675]['Genre'])\n",
    "preds = clf.predict(df[675:].drop(['Genre'], axis=1))\n",
    "(preds == df[675:]['Genre']).mean()"
   ]
  },
  {
   "cell_type": "markdown",
   "metadata": {},
   "source": [
    "Following this, we decided to analyze how it did on the individual genres."
   ]
  },
  {
   "cell_type": "code",
   "execution_count": 28,
   "metadata": {},
   "outputs": [
    {
     "data": {
      "image/png": "[encoded data removed]",
      "text/plain": [
       "<Figure size 432x288 with 1 Axes>"
      ]
     },
     "metadata": {},
     "output_type": "display_data"
    }
   ],
   "source": [
    "labels = pd.Series(preds[df[675:]['Genre'] == 'Rock']).value_counts().index\n",
    "sizes = pd.Series(preds[df[675:]['Genre'] == 'Rock']).value_counts().values\n",
    "fig1, ax1 = plt.subplots()\n",
    "ax1.pie(sizes, labels=labels,startangle=90)\n",
    "ax1.axis('equal')\n",
    "fig1.suptitle('Classifier Predictions for Rock Songs', fontsize=16)\n",
    "plt.show()"
   ]
  },
  {
   "cell_type": "code",
   "execution_count": 30,
   "metadata": {},
   "outputs": [
    {
     "data": {
      "image/png": "[encoded data removed]",
      "text/plain": [
       "<Figure size 432x288 with 1 Axes>"
      ]
     },
     "metadata": {},
     "output_type": "display_data"
    }
   ],
   "source": [
    "labels = pd.Series(preds[df[675:]['Genre'] == 'Hip Hop']).value_counts().index\n",
    "sizes = pd.Series(preds[df[675:]['Genre'] == 'Hip Hop']).value_counts().values\n",
    "fig1, ax1 = plt.subplots()\n",
    "ax1.pie(sizes, labels=labels,startangle=90)\n",
    "ax1.axis('equal')\n",
    "fig1.suptitle('Classifier Predictions for Hip Hop Songs', fontsize=16)\n",
    "plt.show()"
   ]
  },
  {
   "cell_type": "code",
   "execution_count": 31,
   "metadata": {},
   "outputs": [
    {
     "data": {
      "image/png": "[encoded data removed]",
      "text/plain": [
       "<Figure size 432x288 with 1 Axes>"
      ]
     },
     "metadata": {},
     "output_type": "display_data"
    }
   ],
   "source": [
    "labels = pd.Series(preds[df[675:]['Genre'] == 'Classical']).value_counts().index\n",
    "sizes = pd.Series(preds[df[675:]['Genre'] == 'Classical']).value_counts().values\n",
    "fig1, ax1 = plt.subplots()\n",
    "ax1.pie(sizes, labels=labels,startangle=90)\n",
    "ax1.axis('equal')\n",
    "fig1.suptitle('Classifier Predictions for Classical Songs', fontsize=16)\n",
    "plt.show()"
   ]
  },
  {
   "cell_type": "code",
   "execution_count": 32,
   "metadata": {},
   "outputs": [
    {
     "data": {
      "image/png": "[encoded data removed]",
      "text/plain": [
       "<Figure size 432x288 with 1 Axes>"
      ]
     },
     "metadata": {},
     "output_type": "display_data"
    }
   ],
   "source": [
    "labels = pd.Series(preds[df[675:]['Genre'] == 'Jazz']).value_counts().index\n",
    "sizes = pd.Series(preds[df[675:]['Genre'] == 'Jazz']).value_counts().values\n",
    "fig1, ax1 = plt.subplots()\n",
    "ax1.pie(sizes, labels=labels,startangle=90)\n",
    "ax1.axis('equal')\n",
    "fig1.suptitle('Classifier Predictions for Jazz Songs', fontsize=16)\n",
    "plt.show()"
   ]
  },
  {
   "cell_type": "code",
   "execution_count": 33,
   "metadata": {},
   "outputs": [
    {
     "data": {
      "image/png": "[encoded data removed]",
      "text/plain": [
       "<Figure size 432x288 with 1 Axes>"
      ]
     },
     "metadata": {},
     "output_type": "display_data"
    }
   ],
   "source": [
    "labels = pd.Series(preds[df[675:]['Genre'] == 'Punk']).value_counts().index\n",
    "sizes = pd.Series(preds[df[675:]['Genre'] == 'Punk']).value_counts().values\n",
    "fig1, ax1 = plt.subplots()\n",
    "ax1.pie(sizes, labels=labels,startangle=90)\n",
    "ax1.axis('equal')\n",
    "fig1.suptitle('Classifier Predictions for Punk Songs', fontsize=16)\n",
    "plt.show()"
   ]
  },
  {
   "cell_type": "code",
   "execution_count": null,
   "metadata": {},
   "outputs": [],
   "source": []
  }
 ],
 "metadata": {
  "kernelspec": {
   "display_name": "Python 3",
   "language": "python",
   "name": "python3"
  },
  "language_info": {
   "codemirror_mode": {
    "name": "ipython",
    "version": 3
   },
   "file_extension": ".py",
   "mimetype": "text/x-python",
   "name": "python",
   "nbconvert_exporter": "python",
   "pygments_lexer": "ipython3",
   "version": "3.7.3"
  }
 },
 "nbformat": 4,
 "nbformat_minor": 2
}
