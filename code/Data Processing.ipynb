{
 "cells": [
  {
   "cell_type": "markdown",
   "metadata": {},
   "source": [
    "# Data Processing / Feature Extraction"
   ]
  },
  {
   "cell_type": "code",
   "execution_count": 124,
   "metadata": {},
   "outputs": [],
   "source": [
    "import librosa\n",
    "import pandas as pd\n",
    "import numpy as np\n",
    "import requests\n",
    "import os\n",
    "import sklearn"
   ]
  },
  {
   "cell_type": "code",
   "execution_count": 125,
   "metadata": {},
   "outputs": [],
   "source": [
    "rdf = pd.read_csv('data/rock_df.csv')\n",
    "jdf = pd.read_csv('data/jazz_df.csv')\n",
    "cdf = pd.read_csv('data/classical_df.csv')\n",
    "pdf = pd.read_csv('data/punk_df.csv')\n",
    "hdf = pd.read_csv('data/hiphop_df.csv')"
   ]
  },
  {
   "cell_type": "markdown",
   "metadata": {},
   "source": [
    "Within each of these datasets, we've taken a link to Spotify's 30-second preview of each song"
   ]
  },
  {
   "cell_type": "code",
   "execution_count": 126,
   "metadata": {},
   "outputs": [
    {
     "data": {
      "text/plain": [
       "0    https://p.scdn.co/mp3-preview/c5742cc09643dc07...\n",
       "1    https://p.scdn.co/mp3-preview/af0c42e6dacc0b8b...\n",
       "2    https://p.scdn.co/mp3-preview/90e41778392f27b6...\n",
       "3    https://p.scdn.co/mp3-preview/7cc3982631523940...\n",
       "4    https://p.scdn.co/mp3-preview/b1dd1977653f3668...\n",
       "Name: Preview, dtype: object"
      ]
     },
     "execution_count": 126,
     "metadata": {},
     "output_type": "execute_result"
    }
   ],
   "source": [
    "rdf['Preview'].head()"
   ]
  },
  {
   "cell_type": "markdown",
   "metadata": {},
   "source": [
    "We're going to have to go about downloading these files in order to work with them, so we created a function in order to download these files, each being placed in a folder for each genre."
   ]
  },
  {
   "cell_type": "code",
   "execution_count": 127,
   "metadata": {},
   "outputs": [],
   "source": [
    "def download_and_save(songid, url, genre):\n",
    "    filename = songid + '.mp3'\n",
    "    outfile = os.path.join('data', 'mp3s', genre, filename)\n",
    "    \n",
    "    if not os.path.exists(outfile):                        \n",
    "        print(\"downloading {}: {}\".format(filename, url))\n",
    "        r = requests.get(url, outfile)\n",
    "        with open(outfile, 'wb') as f:\n",
    "            f.write(r.content)\n",
    "    else:\n",
    "        pass"
   ]
  },
  {
   "cell_type": "markdown",
   "metadata": {},
   "source": [
    "So, for each genre, we acquired each of the sample mp3 files."
   ]
  },
  {
   "cell_type": "code",
   "execution_count": 128,
   "metadata": {},
   "outputs": [],
   "source": [
    "for i,j in zip(rdf['Preview'], rdf['ID']):\n",
    "    download_and_save(j,i,'rock')"
   ]
  },
  {
   "cell_type": "code",
   "execution_count": 129,
   "metadata": {},
   "outputs": [],
   "source": [
    "for i,j in zip(cdf['Preview'], cdf['ID']):\n",
    "    download_and_save(j,i,'classical')"
   ]
  },
  {
   "cell_type": "code",
   "execution_count": 130,
   "metadata": {},
   "outputs": [],
   "source": [
    "for i,j in zip(hdf['Preview'], hdf['ID']):\n",
    "    download_and_save(j,i,'hiphop')"
   ]
  },
  {
   "cell_type": "code",
   "execution_count": 131,
   "metadata": {},
   "outputs": [],
   "source": [
    "for i,j in zip(pdf['Preview'], pdf['ID']):\n",
    "    download_and_save(j,i,'punk')"
   ]
  },
  {
   "cell_type": "code",
   "execution_count": 132,
   "metadata": {},
   "outputs": [],
   "source": [
    "for i,j in zip(jdf['Preview'], jdf['ID']):\n",
    "    download_and_save(j,i,'jazz')"
   ]
  },
  {
   "cell_type": "markdown",
   "metadata": {},
   "source": [
    "Now that we have the files, we can load them with librosa."
   ]
  },
  {
   "cell_type": "code",
   "execution_count": 133,
   "metadata": {},
   "outputs": [
    {
     "name": "stderr",
     "output_type": "stream",
     "text": [
      "C:\\Users\\Joseph\\Anaconda3\\lib\\site-packages\\librosa\\core\\audio.py:161: UserWarning: PySoundFile failed. Trying audioread instead.\n",
      "  warnings.warn('PySoundFile failed. Trying audioread instead.')\n"
     ]
    }
   ],
   "source": [
    "rys, rsrs = [], []\n",
    "for i in rdf['ID']:\n",
    "    y, sr = librosa.load(os.path.join('data','mp3s','rock',i+'.mp3'))\n",
    "    rys.append(y)\n",
    "    rsrs.append(sr)"
   ]
  },
  {
   "cell_type": "code",
   "execution_count": 134,
   "metadata": {},
   "outputs": [],
   "source": [
    "jys, jsrs = [], []\n",
    "for i in jdf['ID']:\n",
    "    y, sr = librosa.load(os.path.join('data','mp3s','jazz',i+'.mp3'))\n",
    "    jys.append(y)\n",
    "    jsrs.append(sr)"
   ]
  },
  {
   "cell_type": "code",
   "execution_count": 135,
   "metadata": {},
   "outputs": [],
   "source": [
    "hys, hsrs = [], []\n",
    "for i in hdf['ID']:\n",
    "    y, sr = librosa.load(os.path.join('data','mp3s','hiphop',i+'.mp3'))\n",
    "    hys.append(y)\n",
    "    hsrs.append(sr)"
   ]
  },
  {
   "cell_type": "code",
   "execution_count": 136,
   "metadata": {},
   "outputs": [],
   "source": [
    "cys, csrs = [], []\n",
    "for i in cdf['ID']:\n",
    "    y, sr = librosa.load(os.path.join('data','mp3s','classical',i+'.mp3'))\n",
    "    cys.append(y)\n",
    "    csrs.append(sr)"
   ]
  },
  {
   "cell_type": "code",
   "execution_count": 137,
   "metadata": {},
   "outputs": [],
   "source": [
    "pys, psrs = [], []\n",
    "for i in pdf['ID']:\n",
    "    y, sr = librosa.load(os.path.join('data','mp3s','punk',i+'.mp3'))\n",
    "    pys.append(y)\n",
    "    psrs.append(sr)"
   ]
  },
  {
   "cell_type": "markdown",
   "metadata": {},
   "source": [
    "Unfortunately, while all were sampled at the same rate, the previews all vary in terms of time. Nearly all around around 30 seconds, except 2 of the classical previews, but even then some have 661500 samples, while others have 661501."
   ]
  },
  {
   "cell_type": "code",
   "execution_count": 138,
   "metadata": {},
   "outputs": [
    {
     "data": {
      "text/plain": [
       "array([661500], dtype=int64)"
      ]
     },
     "execution_count": 138,
     "metadata": {},
     "output_type": "execute_result"
    }
   ],
   "source": [
    "pd.Series(rys).apply(lambda x: x[:661500]).apply(lambda x: len(x)).unique()"
   ]
  },
  {
   "cell_type": "code",
   "execution_count": 139,
   "metadata": {},
   "outputs": [
    {
     "data": {
      "text/plain": [
       "array([661500, 661501], dtype=int64)"
      ]
     },
     "execution_count": 139,
     "metadata": {},
     "output_type": "execute_result"
    }
   ],
   "source": [
    "pd.Series(jys).apply(lambda x: len(x)).unique()"
   ]
  },
  {
   "cell_type": "code",
   "execution_count": 140,
   "metadata": {},
   "outputs": [
    {
     "data": {
      "text/plain": [
       "array([ 661500,  661501,  816608, 1175107], dtype=int64)"
      ]
     },
     "execution_count": 140,
     "metadata": {},
     "output_type": "execute_result"
    }
   ],
   "source": [
    "pd.Series(cys).apply(lambda x: len(x)).unique()"
   ]
  },
  {
   "cell_type": "code",
   "execution_count": 141,
   "metadata": {},
   "outputs": [
    {
     "data": {
      "text/plain": [
       "array([661500, 661501], dtype=int64)"
      ]
     },
     "execution_count": 141,
     "metadata": {},
     "output_type": "execute_result"
    }
   ],
   "source": [
    "pd.Series(hys).apply(lambda x: len(x)).unique()"
   ]
  },
  {
   "cell_type": "code",
   "execution_count": 142,
   "metadata": {},
   "outputs": [
    {
     "data": {
      "text/plain": [
       "array([661501, 661500], dtype=int64)"
      ]
     },
     "execution_count": 142,
     "metadata": {},
     "output_type": "execute_result"
    }
   ],
   "source": [
    "pd.Series(pys).apply(lambda x: len(x)).unique()"
   ]
  },
  {
   "cell_type": "markdown",
   "metadata": {},
   "source": [
    "In order to make better use of these later on, the previews will be trimmed to the initial 661500 samples. For reference, the sampling rate will be kept as well."
   ]
  },
  {
   "cell_type": "code",
   "execution_count": 143,
   "metadata": {},
   "outputs": [],
   "source": [
    "rdf['Time Series'] = pd.Series(rys).apply(lambda x: x[:661500])\n",
    "cdf['Time Series'] = pd.Series(cys).apply(lambda x: x[:661500])\n",
    "hdf['Time Series'] = pd.Series(hys).apply(lambda x: x[:661500])\n",
    "pdf['Time Series'] = pd.Series(pys).apply(lambda x: x[:661500])\n",
    "jdf['Time Series'] = pd.Series(jys).apply(lambda x: x[:661500])\n",
    "rdf['Sampling Rate'] = pd.Series(rsrs)\n",
    "cdf['Sampling Rate'] = pd.Series(csrs)\n",
    "hdf['Sampling Rate'] = pd.Series(hsrs)\n",
    "pdf['Sampling Rate'] = pd.Series(psrs)\n",
    "jdf['Sampling Rate'] = pd.Series(jsrs)"
   ]
  },
  {
   "cell_type": "code",
   "execution_count": 144,
   "metadata": {
    "scrolled": true
   },
   "outputs": [
    {
     "data": {
      "text/html": [
       "<div>\n",
       "<style scoped>\n",
       "    .dataframe tbody tr th:only-of-type {\n",
       "        vertical-align: middle;\n",
       "    }\n",
       "\n",
       "    .dataframe tbody tr th {\n",
       "        vertical-align: top;\n",
       "    }\n",
       "\n",
       "    .dataframe thead th {\n",
       "        text-align: right;\n",
       "    }\n",
       "</style>\n",
       "<table border=\"1\" class=\"dataframe\">\n",
       "  <thead>\n",
       "    <tr style=\"text-align: right;\">\n",
       "      <th></th>\n",
       "      <th>Unnamed: 0</th>\n",
       "      <th>ID</th>\n",
       "      <th>Duration</th>\n",
       "      <th>Explicit</th>\n",
       "      <th>Popularity</th>\n",
       "      <th>Danceability</th>\n",
       "      <th>Energy</th>\n",
       "      <th>Key</th>\n",
       "      <th>Loudness</th>\n",
       "      <th>Mode</th>\n",
       "      <th>Speechiness</th>\n",
       "      <th>Acousticness</th>\n",
       "      <th>Instrumentalness</th>\n",
       "      <th>Liveness</th>\n",
       "      <th>Valence</th>\n",
       "      <th>Tempo</th>\n",
       "      <th>Time Signature</th>\n",
       "      <th>Preview</th>\n",
       "      <th>Time Series</th>\n",
       "      <th>Sampling Rate</th>\n",
       "    </tr>\n",
       "  </thead>\n",
       "  <tbody>\n",
       "    <tr>\n",
       "      <th>0</th>\n",
       "      <td>1</td>\n",
       "      <td>62nQ8UZVqR2RMvkJHkcO2o</td>\n",
       "      <td>318226</td>\n",
       "      <td>False</td>\n",
       "      <td>72</td>\n",
       "      <td>0.285</td>\n",
       "      <td>0.846</td>\n",
       "      <td>2</td>\n",
       "      <td>-6.472</td>\n",
       "      <td>1</td>\n",
       "      <td>0.0438</td>\n",
       "      <td>0.0404</td>\n",
       "      <td>0.000000</td>\n",
       "      <td>0.1820</td>\n",
       "      <td>0.287</td>\n",
       "      <td>108.808</td>\n",
       "      <td>4</td>\n",
       "      <td>https://p.scdn.co/mp3-preview/c5742cc09643dc07...</td>\n",
       "      <td>[-0.08670287, -0.23489232, -0.26327035, -0.243...</td>\n",
       "      <td>22050</td>\n",
       "    </tr>\n",
       "    <tr>\n",
       "      <th>1</th>\n",
       "      <td>2</td>\n",
       "      <td>59WN2psjkt1tyaxjspN8fp</td>\n",
       "      <td>313573</td>\n",
       "      <td>True</td>\n",
       "      <td>78</td>\n",
       "      <td>0.466</td>\n",
       "      <td>0.833</td>\n",
       "      <td>7</td>\n",
       "      <td>-4.215</td>\n",
       "      <td>1</td>\n",
       "      <td>0.3040</td>\n",
       "      <td>0.0266</td>\n",
       "      <td>0.000000</td>\n",
       "      <td>0.0327</td>\n",
       "      <td>0.661</td>\n",
       "      <td>88.785</td>\n",
       "      <td>4</td>\n",
       "      <td>https://p.scdn.co/mp3-preview/af0c42e6dacc0b8b...</td>\n",
       "      <td>[-0.17826098, -0.44856685, -0.40792686, -0.389...</td>\n",
       "      <td>22050</td>\n",
       "    </tr>\n",
       "    <tr>\n",
       "      <th>2</th>\n",
       "      <td>3</td>\n",
       "      <td>3d9DChrdc6BOeFsbrZ3Is0</td>\n",
       "      <td>264306</td>\n",
       "      <td>False</td>\n",
       "      <td>81</td>\n",
       "      <td>0.559</td>\n",
       "      <td>0.345</td>\n",
       "      <td>4</td>\n",
       "      <td>-13.496</td>\n",
       "      <td>1</td>\n",
       "      <td>0.0459</td>\n",
       "      <td>0.0576</td>\n",
       "      <td>0.000105</td>\n",
       "      <td>0.1410</td>\n",
       "      <td>0.458</td>\n",
       "      <td>84.581</td>\n",
       "      <td>4</td>\n",
       "      <td>https://p.scdn.co/mp3-preview/90e41778392f27b6...</td>\n",
       "      <td>[0.004214895, 0.0075499583, -0.005760105, 0.00...</td>\n",
       "      <td>22050</td>\n",
       "    </tr>\n",
       "    <tr>\n",
       "      <th>3</th>\n",
       "      <td>6</td>\n",
       "      <td>5jafMI8FLibnjkYTZ33m0c</td>\n",
       "      <td>257480</td>\n",
       "      <td>False</td>\n",
       "      <td>73</td>\n",
       "      <td>0.418</td>\n",
       "      <td>0.383</td>\n",
       "      <td>4</td>\n",
       "      <td>-11.782</td>\n",
       "      <td>1</td>\n",
       "      <td>0.0257</td>\n",
       "      <td>0.0718</td>\n",
       "      <td>0.017700</td>\n",
       "      <td>0.0896</td>\n",
       "      <td>0.352</td>\n",
       "      <td>87.773</td>\n",
       "      <td>4</td>\n",
       "      <td>https://p.scdn.co/mp3-preview/7cc3982631523940...</td>\n",
       "      <td>[0.0023394097, -0.058240935, -0.08615264, -0.0...</td>\n",
       "      <td>22050</td>\n",
       "    </tr>\n",
       "    <tr>\n",
       "      <th>4</th>\n",
       "      <td>9</td>\n",
       "      <td>4PtZE0h5oyPhCtPjg3NeYQ</td>\n",
       "      <td>255573</td>\n",
       "      <td>False</td>\n",
       "      <td>64</td>\n",
       "      <td>0.527</td>\n",
       "      <td>0.838</td>\n",
       "      <td>3</td>\n",
       "      <td>-6.013</td>\n",
       "      <td>1</td>\n",
       "      <td>0.0323</td>\n",
       "      <td>0.0206</td>\n",
       "      <td>0.000662</td>\n",
       "      <td>0.0700</td>\n",
       "      <td>0.721</td>\n",
       "      <td>117.454</td>\n",
       "      <td>4</td>\n",
       "      <td>https://p.scdn.co/mp3-preview/b1dd1977653f3668...</td>\n",
       "      <td>[0.0030142576, 0.09424075, 0.3024647, 0.384066...</td>\n",
       "      <td>22050</td>\n",
       "    </tr>\n",
       "  </tbody>\n",
       "</table>\n",
       "</div>"
      ],
      "text/plain": [
       "   Unnamed: 0                      ID  Duration  Explicit  Popularity  \\\n",
       "0           1  62nQ8UZVqR2RMvkJHkcO2o    318226     False          72   \n",
       "1           2  59WN2psjkt1tyaxjspN8fp    313573      True          78   \n",
       "2           3  3d9DChrdc6BOeFsbrZ3Is0    264306     False          81   \n",
       "3           6  5jafMI8FLibnjkYTZ33m0c    257480     False          73   \n",
       "4           9  4PtZE0h5oyPhCtPjg3NeYQ    255573     False          64   \n",
       "\n",
       "   Danceability  Energy  Key  Loudness  Mode  Speechiness  Acousticness  \\\n",
       "0         0.285   0.846    2    -6.472     1       0.0438        0.0404   \n",
       "1         0.466   0.833    7    -4.215     1       0.3040        0.0266   \n",
       "2         0.559   0.345    4   -13.496     1       0.0459        0.0576   \n",
       "3         0.418   0.383    4   -11.782     1       0.0257        0.0718   \n",
       "4         0.527   0.838    3    -6.013     1       0.0323        0.0206   \n",
       "\n",
       "   Instrumentalness  Liveness  Valence    Tempo  Time Signature  \\\n",
       "0          0.000000    0.1820    0.287  108.808               4   \n",
       "1          0.000000    0.0327    0.661   88.785               4   \n",
       "2          0.000105    0.1410    0.458   84.581               4   \n",
       "3          0.017700    0.0896    0.352   87.773               4   \n",
       "4          0.000662    0.0700    0.721  117.454               4   \n",
       "\n",
       "                                             Preview  \\\n",
       "0  https://p.scdn.co/mp3-preview/c5742cc09643dc07...   \n",
       "1  https://p.scdn.co/mp3-preview/af0c42e6dacc0b8b...   \n",
       "2  https://p.scdn.co/mp3-preview/90e41778392f27b6...   \n",
       "3  https://p.scdn.co/mp3-preview/7cc3982631523940...   \n",
       "4  https://p.scdn.co/mp3-preview/b1dd1977653f3668...   \n",
       "\n",
       "                                         Time Series  Sampling Rate  \n",
       "0  [-0.08670287, -0.23489232, -0.26327035, -0.243...          22050  \n",
       "1  [-0.17826098, -0.44856685, -0.40792686, -0.389...          22050  \n",
       "2  [0.004214895, 0.0075499583, -0.005760105, 0.00...          22050  \n",
       "3  [0.0023394097, -0.058240935, -0.08615264, -0.0...          22050  \n",
       "4  [0.0030142576, 0.09424075, 0.3024647, 0.384066...          22050  "
      ]
     },
     "execution_count": 144,
     "metadata": {},
     "output_type": "execute_result"
    }
   ],
   "source": [
    "rdf.head()"
   ]
  },
  {
   "cell_type": "markdown",
   "metadata": {},
   "source": [
    "Now, we may also want to look at Mel-frequency spectrograms for these songs. Thus, for each time series, we computed the mel spectrograms with a logarithmic magnitude scale."
   ]
  },
  {
   "cell_type": "code",
   "execution_count": 145,
   "metadata": {},
   "outputs": [],
   "source": [
    "rspecs = []\n",
    "for y, sr in zip(rdf['Time Series'], rdf['Sampling Rate']):\n",
    "    spec = librosa.feature.melspectrogram(y=y, sr=sr)\n",
    "    spec = librosa.power_to_db(spec)\n",
    "    rspecs.append(spec)\n",
    "rdf['Log Mel'] = rspecs"
   ]
  },
  {
   "cell_type": "code",
   "execution_count": 146,
   "metadata": {},
   "outputs": [],
   "source": [
    "cspecs = []\n",
    "for y, sr in zip(cdf['Time Series'], cdf['Sampling Rate']):\n",
    "    spec = librosa.feature.melspectrogram(y=y, sr=sr)\n",
    "    spec = librosa.power_to_db(spec)\n",
    "    cspecs.append(spec)\n",
    "cdf['Log Mel'] = cspecs"
   ]
  },
  {
   "cell_type": "code",
   "execution_count": 147,
   "metadata": {},
   "outputs": [],
   "source": [
    "hspecs = []\n",
    "for y, sr in zip(hdf['Time Series'], hdf['Sampling Rate']):\n",
    "    spec = librosa.feature.melspectrogram(y=y, sr=sr)\n",
    "    spec = librosa.power_to_db(spec)\n",
    "    hspecs.append(spec)\n",
    "hdf['Log Mel'] = hspecs"
   ]
  },
  {
   "cell_type": "code",
   "execution_count": 148,
   "metadata": {},
   "outputs": [],
   "source": [
    "pspecs = []\n",
    "for y, sr in zip(pdf['Time Series'], pdf['Sampling Rate']):\n",
    "    spec = librosa.feature.melspectrogram(y=y, sr=sr)\n",
    "    spec = librosa.power_to_db(spec)\n",
    "    pspecs.append(spec)\n",
    "pdf['Log Mel'] = pspecs"
   ]
  },
  {
   "cell_type": "code",
   "execution_count": 149,
   "metadata": {},
   "outputs": [],
   "source": [
    "jspecs = []\n",
    "for y, sr in zip(jdf['Time Series'], jdf['Sampling Rate']):\n",
    "    spec = librosa.feature.melspectrogram(y=y, sr=sr)\n",
    "    spec = librosa.power_to_db(spec)\n",
    "    jspecs.append(spec)\n",
    "jdf['Log Mel'] = jspecs"
   ]
  },
  {
   "cell_type": "code",
   "execution_count": 150,
   "metadata": {},
   "outputs": [
    {
     "data": {
      "text/html": [
       "<div>\n",
       "<style scoped>\n",
       "    .dataframe tbody tr th:only-of-type {\n",
       "        vertical-align: middle;\n",
       "    }\n",
       "\n",
       "    .dataframe tbody tr th {\n",
       "        vertical-align: top;\n",
       "    }\n",
       "\n",
       "    .dataframe thead th {\n",
       "        text-align: right;\n",
       "    }\n",
       "</style>\n",
       "<table border=\"1\" class=\"dataframe\">\n",
       "  <thead>\n",
       "    <tr style=\"text-align: right;\">\n",
       "      <th></th>\n",
       "      <th>Unnamed: 0</th>\n",
       "      <th>ID</th>\n",
       "      <th>Duration</th>\n",
       "      <th>Explicit</th>\n",
       "      <th>Popularity</th>\n",
       "      <th>Danceability</th>\n",
       "      <th>Energy</th>\n",
       "      <th>Key</th>\n",
       "      <th>Loudness</th>\n",
       "      <th>Mode</th>\n",
       "      <th>...</th>\n",
       "      <th>Acousticness</th>\n",
       "      <th>Instrumentalness</th>\n",
       "      <th>Liveness</th>\n",
       "      <th>Valence</th>\n",
       "      <th>Tempo</th>\n",
       "      <th>Time Signature</th>\n",
       "      <th>Preview</th>\n",
       "      <th>Time Series</th>\n",
       "      <th>Sampling Rate</th>\n",
       "      <th>Log Mel</th>\n",
       "    </tr>\n",
       "  </thead>\n",
       "  <tbody>\n",
       "    <tr>\n",
       "      <th>0</th>\n",
       "      <td>1</td>\n",
       "      <td>62nQ8UZVqR2RMvkJHkcO2o</td>\n",
       "      <td>318226</td>\n",
       "      <td>False</td>\n",
       "      <td>72</td>\n",
       "      <td>0.285</td>\n",
       "      <td>0.846</td>\n",
       "      <td>2</td>\n",
       "      <td>-6.472</td>\n",
       "      <td>1</td>\n",
       "      <td>...</td>\n",
       "      <td>0.0404</td>\n",
       "      <td>0.000000</td>\n",
       "      <td>0.1820</td>\n",
       "      <td>0.287</td>\n",
       "      <td>108.808</td>\n",
       "      <td>4</td>\n",
       "      <td>https://p.scdn.co/mp3-preview/c5742cc09643dc07...</td>\n",
       "      <td>[-0.08670287, -0.23489232, -0.26327035, -0.243...</td>\n",
       "      <td>22050</td>\n",
       "      <td>[[16.351944, 12.501945, 7.521196, 3.8267663, 0...</td>\n",
       "    </tr>\n",
       "    <tr>\n",
       "      <th>1</th>\n",
       "      <td>2</td>\n",
       "      <td>59WN2psjkt1tyaxjspN8fp</td>\n",
       "      <td>313573</td>\n",
       "      <td>True</td>\n",
       "      <td>78</td>\n",
       "      <td>0.466</td>\n",
       "      <td>0.833</td>\n",
       "      <td>7</td>\n",
       "      <td>-4.215</td>\n",
       "      <td>1</td>\n",
       "      <td>...</td>\n",
       "      <td>0.0266</td>\n",
       "      <td>0.000000</td>\n",
       "      <td>0.0327</td>\n",
       "      <td>0.661</td>\n",
       "      <td>88.785</td>\n",
       "      <td>4</td>\n",
       "      <td>https://p.scdn.co/mp3-preview/af0c42e6dacc0b8b...</td>\n",
       "      <td>[-0.17826098, -0.44856685, -0.40792686, -0.389...</td>\n",
       "      <td>22050</td>\n",
       "      <td>[[16.86778, 12.591039, 15.987344, 19.949896, 1...</td>\n",
       "    </tr>\n",
       "    <tr>\n",
       "      <th>2</th>\n",
       "      <td>3</td>\n",
       "      <td>3d9DChrdc6BOeFsbrZ3Is0</td>\n",
       "      <td>264306</td>\n",
       "      <td>False</td>\n",
       "      <td>81</td>\n",
       "      <td>0.559</td>\n",
       "      <td>0.345</td>\n",
       "      <td>4</td>\n",
       "      <td>-13.496</td>\n",
       "      <td>1</td>\n",
       "      <td>...</td>\n",
       "      <td>0.0576</td>\n",
       "      <td>0.000105</td>\n",
       "      <td>0.1410</td>\n",
       "      <td>0.458</td>\n",
       "      <td>84.581</td>\n",
       "      <td>4</td>\n",
       "      <td>https://p.scdn.co/mp3-preview/90e41778392f27b6...</td>\n",
       "      <td>[0.004214895, 0.0075499583, -0.005760105, 0.00...</td>\n",
       "      <td>22050</td>\n",
       "      <td>[[6.358962, 0.6880936, -4.500276, -3.0977912, ...</td>\n",
       "    </tr>\n",
       "    <tr>\n",
       "      <th>3</th>\n",
       "      <td>6</td>\n",
       "      <td>5jafMI8FLibnjkYTZ33m0c</td>\n",
       "      <td>257480</td>\n",
       "      <td>False</td>\n",
       "      <td>73</td>\n",
       "      <td>0.418</td>\n",
       "      <td>0.383</td>\n",
       "      <td>4</td>\n",
       "      <td>-11.782</td>\n",
       "      <td>1</td>\n",
       "      <td>...</td>\n",
       "      <td>0.0718</td>\n",
       "      <td>0.017700</td>\n",
       "      <td>0.0896</td>\n",
       "      <td>0.352</td>\n",
       "      <td>87.773</td>\n",
       "      <td>4</td>\n",
       "      <td>https://p.scdn.co/mp3-preview/7cc3982631523940...</td>\n",
       "      <td>[0.0023394097, -0.058240935, -0.08615264, -0.0...</td>\n",
       "      <td>22050</td>\n",
       "      <td>[[5.6829166, 0.66769683, -9.947701, -6.980886,...</td>\n",
       "    </tr>\n",
       "    <tr>\n",
       "      <th>4</th>\n",
       "      <td>9</td>\n",
       "      <td>4PtZE0h5oyPhCtPjg3NeYQ</td>\n",
       "      <td>255573</td>\n",
       "      <td>False</td>\n",
       "      <td>64</td>\n",
       "      <td>0.527</td>\n",
       "      <td>0.838</td>\n",
       "      <td>3</td>\n",
       "      <td>-6.013</td>\n",
       "      <td>1</td>\n",
       "      <td>...</td>\n",
       "      <td>0.0206</td>\n",
       "      <td>0.000662</td>\n",
       "      <td>0.0700</td>\n",
       "      <td>0.721</td>\n",
       "      <td>117.454</td>\n",
       "      <td>4</td>\n",
       "      <td>https://p.scdn.co/mp3-preview/b1dd1977653f3668...</td>\n",
       "      <td>[0.0030142576, 0.09424075, 0.3024647, 0.384066...</td>\n",
       "      <td>22050</td>\n",
       "      <td>[[8.955857, 8.933042, 11.030407, 10.565489, 7....</td>\n",
       "    </tr>\n",
       "  </tbody>\n",
       "</table>\n",
       "<p>5 rows × 21 columns</p>\n",
       "</div>"
      ],
      "text/plain": [
       "   Unnamed: 0                      ID  Duration  Explicit  Popularity  \\\n",
       "0           1  62nQ8UZVqR2RMvkJHkcO2o    318226     False          72   \n",
       "1           2  59WN2psjkt1tyaxjspN8fp    313573      True          78   \n",
       "2           3  3d9DChrdc6BOeFsbrZ3Is0    264306     False          81   \n",
       "3           6  5jafMI8FLibnjkYTZ33m0c    257480     False          73   \n",
       "4           9  4PtZE0h5oyPhCtPjg3NeYQ    255573     False          64   \n",
       "\n",
       "   Danceability  Energy  Key  Loudness  Mode  ...  Acousticness  \\\n",
       "0         0.285   0.846    2    -6.472     1  ...        0.0404   \n",
       "1         0.466   0.833    7    -4.215     1  ...        0.0266   \n",
       "2         0.559   0.345    4   -13.496     1  ...        0.0576   \n",
       "3         0.418   0.383    4   -11.782     1  ...        0.0718   \n",
       "4         0.527   0.838    3    -6.013     1  ...        0.0206   \n",
       "\n",
       "   Instrumentalness  Liveness  Valence    Tempo  Time Signature  \\\n",
       "0          0.000000    0.1820    0.287  108.808               4   \n",
       "1          0.000000    0.0327    0.661   88.785               4   \n",
       "2          0.000105    0.1410    0.458   84.581               4   \n",
       "3          0.017700    0.0896    0.352   87.773               4   \n",
       "4          0.000662    0.0700    0.721  117.454               4   \n",
       "\n",
       "                                             Preview  \\\n",
       "0  https://p.scdn.co/mp3-preview/c5742cc09643dc07...   \n",
       "1  https://p.scdn.co/mp3-preview/af0c42e6dacc0b8b...   \n",
       "2  https://p.scdn.co/mp3-preview/90e41778392f27b6...   \n",
       "3  https://p.scdn.co/mp3-preview/7cc3982631523940...   \n",
       "4  https://p.scdn.co/mp3-preview/b1dd1977653f3668...   \n",
       "\n",
       "                                         Time Series Sampling Rate  \\\n",
       "0  [-0.08670287, -0.23489232, -0.26327035, -0.243...         22050   \n",
       "1  [-0.17826098, -0.44856685, -0.40792686, -0.389...         22050   \n",
       "2  [0.004214895, 0.0075499583, -0.005760105, 0.00...         22050   \n",
       "3  [0.0023394097, -0.058240935, -0.08615264, -0.0...         22050   \n",
       "4  [0.0030142576, 0.09424075, 0.3024647, 0.384066...         22050   \n",
       "\n",
       "                                             Log Mel  \n",
       "0  [[16.351944, 12.501945, 7.521196, 3.8267663, 0...  \n",
       "1  [[16.86778, 12.591039, 15.987344, 19.949896, 1...  \n",
       "2  [[6.358962, 0.6880936, -4.500276, -3.0977912, ...  \n",
       "3  [[5.6829166, 0.66769683, -9.947701, -6.980886,...  \n",
       "4  [[8.955857, 8.933042, 11.030407, 10.565489, 7....  \n",
       "\n",
       "[5 rows x 21 columns]"
      ]
     },
     "execution_count": 150,
     "metadata": {},
     "output_type": "execute_result"
    }
   ],
   "source": [
    "rdf.head()"
   ]
  },
  {
   "cell_type": "raw",
   "metadata": {},
   "source": [
    "Finally, we additionally calculated standardized mfccs from each of the Time Series"
   ]
  },
  {
   "cell_type": "code",
   "execution_count": 151,
   "metadata": {},
   "outputs": [],
   "source": [
    "scaler = sklearn.preprocessing.StandardScaler()"
   ]
  },
  {
   "cell_type": "code",
   "execution_count": 152,
   "metadata": {},
   "outputs": [],
   "source": [
    "rmfccs = []\n",
    "for y,sr in zip(rdf['Time Series'], rdf['Sampling Rate']):\n",
    "    mfcc = librosa.feature.mfcc(y, sr=sr, n_mfcc=12).T\n",
    "    scaler.fit(mfcc)\n",
    "    rmfccs.append(scaler.transform(mfcc))"
   ]
  },
  {
   "cell_type": "code",
   "execution_count": 153,
   "metadata": {},
   "outputs": [],
   "source": [
    "cmfccs = []\n",
    "for y,sr in zip(cdf['Time Series'], cdf['Sampling Rate']):\n",
    "    mfcc = librosa.feature.mfcc(y, sr=sr, n_mfcc=12).T\n",
    "    scaler.fit(mfcc)\n",
    "    cmfccs.append(scaler.transform(mfcc))"
   ]
  },
  {
   "cell_type": "code",
   "execution_count": 154,
   "metadata": {},
   "outputs": [],
   "source": [
    "hmfccs = []\n",
    "for y,sr in zip(hdf['Time Series'], hdf['Sampling Rate']):\n",
    "    mfcc = librosa.feature.mfcc(y, sr=sr, n_mfcc=12).T\n",
    "    scaler.fit(mfcc)\n",
    "    hmfccs.append(scaler.transform(mfcc))"
   ]
  },
  {
   "cell_type": "code",
   "execution_count": 155,
   "metadata": {},
   "outputs": [],
   "source": [
    "jmfccs = []\n",
    "for y,sr in zip(jdf['Time Series'], jdf['Sampling Rate']):\n",
    "    mfcc = librosa.feature.mfcc(y, sr=sr, n_mfcc=12).T\n",
    "    scaler.fit(mfcc)\n",
    "    jmfccs.append(scaler.transform(mfcc))"
   ]
  },
  {
   "cell_type": "code",
   "execution_count": 156,
   "metadata": {},
   "outputs": [],
   "source": [
    "pmfccs = []\n",
    "for y,sr in zip(pdf['Time Series'], pdf['Sampling Rate']):\n",
    "    mfcc = librosa.feature.mfcc(y, sr=sr, n_mfcc=12).T\n",
    "    scaler.fit(mfcc)\n",
    "    pmfccs.append(scaler.transform(mfcc))"
   ]
  },
  {
   "cell_type": "code",
   "execution_count": 157,
   "metadata": {},
   "outputs": [],
   "source": [
    "rdf['MFCC'] = pd.Series(rmfccs)\n",
    "cdf['MFCC'] = pd.Series(cmfccs)\n",
    "hdf['MFCC'] = pd.Series(hmfccs)\n",
    "jdf['MFCC'] = pd.Series(jmfccs)\n",
    "pdf['MFCC'] = pd.Series(pmfccs)"
   ]
  },
  {
   "cell_type": "code",
   "execution_count": 160,
   "metadata": {},
   "outputs": [],
   "source": [
    "rdf['Genre'] = pd.Series([\"Rock\" for x in np.arange(len(rdf))])\n",
    "cdf['Genre'] = pd.Series([\"Classical\" for x in np.arange(len(cdf))])\n",
    "hdf['Genre'] = pd.Series([\"Hip Hop\" for x in np.arange(len(hdf))])\n",
    "jdf['Genre'] = pd.Series([\"Jazz\" for x in np.arange(len(jdf))])\n",
    "pdf['Genre'] = pd.Series([\"Punk\" for x in np.arange(len(pdf))])"
   ]
  },
  {
   "cell_type": "markdown",
   "metadata": {},
   "source": [
    "With all MFCCs and Genres added, we finally combined the dataframes,"
   ]
  },
  {
   "cell_type": "code",
   "execution_count": 162,
   "metadata": {},
   "outputs": [],
   "source": [
    "df = pd.concat([rdf, cdf, hdf, jdf, pdf], ignore_index=True).drop('Unnamed: 0', axis=1)"
   ]
  },
  {
   "cell_type": "markdown",
   "metadata": {},
   "source": [
    "and saved it as a pickle"
   ]
  },
  {
   "cell_type": "code",
   "execution_count": 164,
   "metadata": {},
   "outputs": [],
   "source": [
    "df.to_pickle('combined.pkl')"
   ]
  },
  {
   "cell_type": "code",
   "execution_count": null,
   "metadata": {},
   "outputs": [],
   "source": []
  }
 ],
 "metadata": {
  "kernelspec": {
   "display_name": "Python 3",
   "language": "python",
   "name": "python3"
  },
  "language_info": {
   "codemirror_mode": {
    "name": "ipython",
    "version": 3
   },
   "file_extension": ".py",
   "mimetype": "text/x-python",
   "name": "python",
   "nbconvert_exporter": "python",
   "pygments_lexer": "ipython3",
   "version": "3.7.3"
  }
 },
 "nbformat": 4,
 "nbformat_minor": 2
}
